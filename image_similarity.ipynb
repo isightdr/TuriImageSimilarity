{
 "cells": [
  {
   "cell_type": "markdown",
   "metadata": {},
   "source": [
    "## **Turi Image Similarity**\n",
    "Welcome to the image similarit model quickstart on Skafos! The purpose of this notebook is to get you going end-to-end. Below we will do the following:\n",
    "\n",
    "- Load images for 101 different categories from Caltech's website\n",
    "- Build an image similarity model.\n",
    "- Convert the model to CoreML format and save it to the Skafos framework.\n",
    "\n",
    "The example is based on [Turi Create's Image Similarity example](https://apple.github.io/turicreate/docs/userguide/image_similarity/).\n",
    "\n",
    "--- \n",
    "\n",
    "Execute each cell one-by-one, by selecting the cell and do one of the following:\n",
    "\n",
    "Clicking the \"play\" button at the top of this frame.\n",
    "Typing 'Control + Enter' or 'Shift + Enter'."
   ]
  },
  {
   "cell_type": "code",
   "execution_count": null,
   "metadata": {},
   "outputs": [],
   "source": [
    "# Import necessary libraries\n",
    "import urllib\n",
    "import tarfile\n",
    "\n",
    "from skafossdk import *\n",
    "\n",
    "from utilities.load_turicreate import *\n",
    "import utilities.save_models as sm\n",
    "\n",
    "# Check to make sure turicreate is installed\n",
    "tc = install_turicreate(timeout=500, retries=2) \n",
    "\n",
    "import coremltools # Turi Create required prior to import"
   ]
  },
  {
   "cell_type": "code",
   "execution_count": null,
   "metadata": {},
   "outputs": [],
   "source": [
    "ska = Skafos() # initialize Skafos"
   ]
  },
  {
   "cell_type": "markdown",
   "metadata": {},
   "source": [
    "### 1. **Load the data**\n",
    "The training data loaded below comes compressed from the [Computer Vision dept. at Caltech](http://www.vision.caltech.edu/Image_Datasets/Caltech101/Caltech101.html).  The training data for this example are 9,145 images from 101 different categories.  First, we need to unzip and extract the images.  We then add row numbers to the data set such that we can reference images later when we need to query the model for similar images."
   ]
  },
  {
   "cell_type": "code",
   "execution_count": null,
   "metadata": {},
   "outputs": [],
   "source": [
    "# Specify where to pull images from and local path name\n",
    "data_url = \"http://www.vision.caltech.edu/Image_Datasets/Caltech101/101_ObjectCategories.tar.gz\";\n",
    "data_path = \"101_ObjectCategories.tar.gz\" # specify output path name\n",
    "\n",
    "# Fetch training data from Caltech's website and extract the contents.\n",
    "retrieve = urllib.request.urlretrieve(data_url, data_path)\n",
    "tar = tarfile.open(data_path, \"r:gz\")\n",
    "tar.extractall()\n",
    "tar.close()\n",
    "\n",
    "# Load the data into a Turi Create SFrame\n",
    "reference_data  = tc.image_analysis.load_images('./101_ObjectCategories')\n",
    "reference_data = reference_data.add_row_number() # add a row number to the data set"
   ]
  },
  {
   "cell_type": "markdown",
   "metadata": {},
   "source": [
    "### 2. **Build the model**\n",
    "- We use the tc.image_similarity.create function and specify the data. We also pass None to the label argument, which tells the function to use the row number of each image as the label. This becomes important when you want to query the model for similar images later on. To understand more about this specific function, check out the [Turi Create Documentation](https://apple.github.io/turicreate/docs/api/generated/turicreate.image_similarity.create.html).\n",
    "\n",
    "**Note: The code below has been commented because we highly recommend running this model using a GPU. If you uncomment the second line and run this cell as written, it will use a CPU, take approximately 1 day, and will re-create the 101 category image similarity model. Once you have loaded your own data, uncomment these lines to train your image similarity model. It will currently use a CPU, but GPU support is coming soon.**"
   ]
  },
  {
   "cell_type": "code",
   "execution_count": null,
   "metadata": {},
   "outputs": [],
   "source": [
    "## Train an image similarity model. With label=None, the model uses row numbers to identify images when the model is queried.\n",
    "#model = tc.image_similarity.create(reference_data, label=None)"
   ]
  },
  {
   "cell_type": "markdown",
   "metadata": {},
   "source": [
    "### 3. **Save the model**\n",
    "We save the model to Skafos so that you can download it into your project later without having to always retrain the model."
   ]
  },
  {
   "cell_type": "code",
   "execution_count": null,
   "metadata": {},
   "outputs": [],
   "source": [
    "## Export the model to CoreML\n",
    "\n",
    "# Specify the CoreML model name\n",
    "#coreml_model_name = 'ImageSimilarity.mlmodel'\n",
    "# Specify the name of the compressed model we save to Skafos\n",
    "#compressed_model_name = coreml_model_name + \".gz\" \n",
    "\n",
    "# Export the trained model to CoreML format\n",
    "#res = model.export_coreml(coreml_model_name) \n",
    "\n",
    "## Use coremltools to convert model weights to half-precision.\n",
    "## This may be necessary if you have memory concerns within your app\n",
    "#model_spec = coremltools.utils.load_spec(coreml_model_name)\n",
    "#model_fp16_spec = coremltools.utils.convert_neural_network_spec_weights_to_fp16(model_spec)\n",
    "#coremltools.utils.save_spec(model_fp16_spec, coreml_model_name)\n",
    "\n",
    "# Compress the model\n",
    "#compressed_model = sm.compress_model(coreml_model_name)\n",
    "\n",
    "# Save to Skafos\n",
    "#sm.skafos_save_model(\n",
    "#    skafos=ska, \n",
    "#    model_name=compressed_model_name,\n",
    "#    compressed_model=compressed_model,\n",
    "#    permissions='public'\n",
    "# )"
   ]
  }
 ],
 "metadata": {
  "kernelspec": {
   "display_name": "Python 3",
   "language": "python",
   "name": "python3"
  },
  "language_info": {
   "codemirror_mode": {
    "name": "ipython",
    "version": 3
   },
   "file_extension": ".py",
   "mimetype": "text/x-python",
   "name": "python",
   "nbconvert_exporter": "python",
   "pygments_lexer": "ipython3",
   "version": "3.6.6"
  }
 },
 "nbformat": 4,
 "nbformat_minor": 2
}
