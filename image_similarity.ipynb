{
 "cells": [
  {
   "cell_type": "markdown",
   "metadata": {},
   "source": [
    "## **Turi Image Similarity**\n",
    "Welcome to the image similarit model quickstart on Skafos! The purpose of this notebook is to get you going end-to-end. Below we will do the following:\n",
    "\n",
    "- Load images from Caltech's website\n",
    "- Build am image similarity model.\n",
    "- Convert the model to CoreML format and save it to the Skafos framework.\n",
    "\n",
    "The example is based on [Turi Create's Image Similarity example](https://apple.github.io/turicreate/docs/userguide/image_similarity/).\n",
    "\n",
    "--- \n",
    "\n",
    "Execute each cell one-by-one, by selecting the cell and do one of the following:\n",
    "\n",
    "Clicking the \"play\" button at the top of this frame.\n",
    "Typing 'Control + Enter' or 'Shift + Enter'."
   ]
  },
  {
   "cell_type": "code",
   "execution_count": null,
   "metadata": {},
   "outputs": [],
   "source": [
    "# Import necessary libraries\n",
    "import urllib\n",
    "import tarfile\n",
    "\n",
    "import coremltools\n",
    "from skafossdk import *\n",
    "\n",
    "from utilities.load_turicreate import *\n",
    "import utilities.save_models as sm"
   ]
  },
  {
   "cell_type": "code",
   "execution_count": null,
   "metadata": {},
   "outputs": [],
   "source": [
    "tc = install_turicreate(timeout=500, retries=2) #check to make sure turicreate is installed\n",
    "ska = Skafos() # initialize Skafos"
   ]
  },
  {
   "cell_type": "markdown",
   "metadata": {},
   "source": [
    "### 1. **Load the data**\n",
    "The data loaded below comes compressed from the [Computer Vision dept. at Caltech](http://www.vision.caltech.edu/). The data is extracted and then split into training and testing datasets."
   ]
  },
  {
   "cell_type": "code",
   "execution_count": null,
   "metadata": {},
   "outputs": [],
   "source": [
    "data_url = \"http://www.vision.caltech.edu/Image_Datasets/Caltech101/101_ObjectCategories.tar.gz\";\n",
    "data_path = \"101_ObjectCategories.tar.gz\" # specify output path name\n",
    "\n",
    "# Fetch training data from Caltech's website and extract the contents.\n",
    "retrieve = urllib.request.urlretrieve(data_url, data_path)\n",
    "tar = tarfile.open(data_path, \"r:gz\")\n",
    "tar.extractall()\n",
    "tar.close()\n",
    "\n",
    "# load the data into a Turi Create SFrame\n",
    "reference_data  = tc.image_analysis.load_images('./101_ObjectCategories')\n",
    "reference_data = reference_data.add_row_number()"
   ]
  },
  {
   "cell_type": "markdown",
   "metadata": {},
   "source": [
    "### 2. **Build the model**\n",
    "We pass the data to the `tc.image_similarity.create` function and specify a few arguments needed to properly run the model. To understand more about this, check out the [Turi Create Documentation](https://apple.github.io/turicreate/docs/userguide/image_similarity/).\n",
    "\n",
    "_Note: we highly recommend running this on a GPU. We encourage you to do this once you've changed the data to reflect your use case. As benchmarks, we've found this takes about an hour on a GPU and about 1.5 days on Skafos with 6 CPU's and 10G of memory. For this reason, we've commented out the model running and model saving below._"
   ]
  },
  {
   "cell_type": "code",
   "execution_count": null,
   "metadata": {},
   "outputs": [],
   "source": [
    "## build the model\n",
    "#model = tc.image_similarity.create(reference_data)"
   ]
  },
  {
   "cell_type": "markdown",
   "metadata": {},
   "source": [
    "### 3. **Save the model**\n",
    "We save the model to Skafos so that you can download it into your project later without having to always retrain the model."
   ]
  },
  {
   "cell_type": "code",
   "execution_count": null,
   "metadata": {},
   "outputs": [],
   "source": [
    "## export model to coreml\n",
    "#coreml_model_name = \"image_similarity.mlmodel\"\n",
    "#res = model.export_coreml(coreml_model_name)\n",
    "\n",
    "## convert to half-precision to decrease model size\n",
    "#model_spec = coremltools.utils.load_spec(coreml_model_name)\n",
    "#model_fp16_spec = coremltools.utils.convert_neural_network_spec_weights_to_fp16(model_spec)\n",
    "#coremltools.utils.save_spec(model_fp16_spec, coreml_model_name)\n",
    "\n",
    "## compress the model\n",
    "#compressed_model_name, compressed_model = sm.compress_model(coreml_model_name)\n",
    "\n",
    "# save model to Skafos\n",
    "#sm.skafos_save_model(skafos = ska, model_name = compressed_model_name,\n",
    "#                                compressed_model = compressed_model,\n",
    "#                                permissions = 'public')"
   ]
  }
 ],
 "metadata": {
  "kernelspec": {
   "display_name": "Python 3",
   "language": "python",
   "name": "python3"
  },
  "language_info": {
   "codemirror_mode": {
    "name": "ipython",
    "version": 3
   },
   "file_extension": ".py",
   "mimetype": "text/x-python",
   "name": "python",
   "nbconvert_exporter": "python",
   "pygments_lexer": "ipython3",
   "version": "3.6.6"
  }
 },
 "nbformat": 4,
 "nbformat_minor": 2
}
