{
 "cells": [
  {
   "cell_type": "markdown",
   "metadata": {},
   "source": [
    "## **Turi Create Image Similarity on Skafos**\n",
    "The below example code and more documentation on the approach can be found [here](https://apple.github.io/turicreate/docs/userguide/image_similarity/).\n",
    "This notebook does the following:\n",
    "1. Loads the data\n",
    "2. Builds the model\n",
    "3. Saves the model"
   ]
  },
  {
   "cell_type": "code",
   "execution_count": null,
   "metadata": {},
   "outputs": [],
   "source": [
    "import urllib.request\n",
    "import tarfile\n",
    "from common.load_turicreate import *\n",
    "tc = install_turicreate(timeout = 500, retries = 2)\n",
    "from skafossdk import *\n",
    "import save_models as sm\n",
    "import coremltools"
   ]
  },
  {
   "cell_type": "code",
   "execution_count": null,
   "metadata": {},
   "outputs": [],
   "source": [
    "ska = Skafos() # initialize Skafos"
   ]
  },
  {
   "cell_type": "markdown",
   "metadata": {},
   "source": [
    "### 1. **Load the data**\n",
    "The data loaded below comes compressed from the [Computer Vision dept. at Caltech](http://www.vision.caltech.edu/). The data is extracted and then split into training and testing datasets."
   ]
  },
  {
   "cell_type": "code",
   "execution_count": null,
   "metadata": {},
   "outputs": [],
   "source": [
    "data_url = \"http://www.vision.caltech.edu/Image_Datasets/Caltech101/101_ObjectCategories.tar.gz\";\n",
    "data_path = \"101_ObjectCategories.tar.gz\" # specify output path name\n",
    "\n",
    "# Fetch training data from Caltech's website and extract the contents.\n",
    "retrieve = urllib.request.urlretrieve(data_url, data_path)\n",
    "tar = tarfile.open(data_path, \"r:gz\")\n",
    "tar.extractall()\n",
    "tar.close()\n",
    "\n",
    "# load the data into a Turi Create SFrame\n",
    "reference_data  = tc.image_analysis.load_images('./101_ObjectCategories')\n",
    "reference_data = reference_data.add_row_number()"
   ]
  },
  {
   "cell_type": "markdown",
   "metadata": {},
   "source": [
    "### 2. **Build the model**\n",
    "We pass the data to the `tc.image_similarity.create` function and specify a few arguments needed to properly run the model. To understand more about this, check out the [Turi Create Documentation](https://apple.github.io/turicreate/docs/userguide/image_similarity/).\n",
    "\n",
    "_Note: we highly recommend running this on a GPU. We encourage you to do this once you've changed the data to reflect your use case. As benchmarks, we've found this takes about an hour on a GPU and about 1.5 days on Skafos with 6 CPU's and 10G of memory. For this reason, we've commented out the model running and model saving below._"
   ]
  },
  {
   "cell_type": "code",
   "execution_count": null,
   "metadata": {},
   "outputs": [],
   "source": [
    "## build the model\n",
    "#model = tc.image_similarity.create(reference_data)"
   ]
  },
  {
   "cell_type": "markdown",
   "metadata": {},
   "source": [
    "### 3. **Save the model**\n",
    "We save the model to Skafos so that you can download it into your project later without having to always retrain the model."
   ]
  },
  {
   "cell_type": "code",
   "execution_count": null,
   "metadata": {},
   "outputs": [],
   "source": [
    "## export model to coreml\n",
    "#coreml_model_name = \"image_similarity.mlmodel\"\n",
    "#res = model.export_coreml(coreml_model_name)\n",
    "\n",
    "## convert to half-precision to decrease model size\n",
    "#model_spec = coremltools.utils.load_spec(coreml_model_name)\n",
    "#model_fp16_spec = coremltools.utils.convert_neural_network_spec_weights_to_fp16(model_spec)\n",
    "#coremltools.utils.save_spec(model_fp16_spec, coreml_model_name)\n",
    "\n",
    "## compress the model\n",
    "#compressed_model_name, compressed_model = sm.compress_model(coreml_model_name)\n",
    "\n",
    "# save model to Skafos\n",
    "#sm.skafos_save_model(skafos = ska, model_name = compressed_model_name,\n",
    "#                                compressed_model = compressed_model,\n",
    "#                                permissions = 'public')"
   ]
  }
 ],
 "metadata": {
  "kernelspec": {
   "display_name": "Python 3",
   "language": "python",
   "name": "python3"
  },
  "language_info": {
   "codemirror_mode": {
    "name": "ipython",
    "version": 3
   },
   "file_extension": ".py",
   "mimetype": "text/x-python",
   "name": "python",
   "nbconvert_exporter": "python",
   "pygments_lexer": "ipython3",
   "version": "3.6.6"
  }
 },
 "nbformat": 4,
 "nbformat_minor": 2
}
